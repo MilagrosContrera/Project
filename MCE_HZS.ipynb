{
 "cells": [
  {
   "cell_type": "markdown",
   "id": "8cfb0077-f10f-4755-a0c5-fa905857fd39",
   "metadata": {},
   "source": [
    "# Final Project - Dashboard"
   ]
  },
  {
   "cell_type": "markdown",
   "id": "19c6bbee",
   "metadata": {},
   "source": [
    "Names:\n",
    "\n",
    "- Milagros Contreras Elizalde\n",
    "\n",
    "- Heriberto Zapata Solano"
   ]
  },
  {
   "cell_type": "markdown",
   "id": "6a8c0984-8225-4b09-8cb9-9bbd3e7e4472",
   "metadata": {},
   "source": [
    "# modules"
   ]
  },
  {
   "cell_type": "code",
   "execution_count": 1,
   "id": "86e80536-b2bb-4dbb-8e73-b784ac420ab0",
   "metadata": {},
   "outputs": [],
   "source": [
    "import numpy as np\n",
    "import pandas as pd"
   ]
  },
  {
   "cell_type": "markdown",
   "id": "10bd582c",
   "metadata": {},
   "source": []
  }
 ],
 "metadata": {
  "kernelspec": {
   "display_name": "Python 3 (ipykernel)",
   "language": "python",
   "name": "python3"
  },
  "language_info": {
   "codemirror_mode": {
    "name": "ipython",
    "version": 3
   },
   "file_extension": ".py",
   "mimetype": "text/x-python",
   "name": "python",
   "nbconvert_exporter": "python",
   "pygments_lexer": "ipython3",
   "version": "3.10.9"
  }
 },
 "nbformat": 4,
 "nbformat_minor": 5
}
